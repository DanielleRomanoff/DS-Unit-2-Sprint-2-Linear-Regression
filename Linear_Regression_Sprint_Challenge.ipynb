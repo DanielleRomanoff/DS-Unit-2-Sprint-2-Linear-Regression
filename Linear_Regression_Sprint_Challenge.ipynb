{
 "cells": [
  {
   "cell_type": "markdown",
   "metadata": {
    "colab_type": "text",
    "id": "view-in-github"
   },
   "source": [
    "<a href=\"https://colab.research.google.com/github/DanielleRomanoff/DS-Unit-2-Sprint-2-Linear-Regression/blob/master/Linear_Regression_Sprint_Challenge.ipynb\" target=\"_parent\"><img src=\"https://colab.research.google.com/assets/colab-badge.svg\" alt=\"Open In Colab\"/></a>"
   ]
  },
  {
   "cell_type": "code",
   "execution_count": 180,
   "metadata": {
    "colab": {
     "base_uri": "https://localhost:8080/",
     "height": 91
    },
    "colab_type": "code",
    "id": "YbiJuv5d2jZ7",
    "outputId": "749ce910-8342-4f4c-af06-77ae4af74804"
   },
   "outputs": [],
   "source": [
    "# Import everything you could ever need. ;)\n",
    "import pandas as pd\n",
    "import numpy as np\n",
    "import matplotlib.pyplot as plt\n",
    "import seaborn as sns\n",
    "from scipy import stats\n",
    "import statsmodels.api as sm\n",
    "from statsmodels.stats.outliers_influence import variance_inflation_factor\n",
    "from sklearn.model_selection import train_test_split\n",
    "from sklearn.linear_model import LinearRegression\n",
    "from sklearn.metrics import mean_squared_error, r2_score\n",
    "from mpl_toolkits.mplot3d import Axes3D"
   ]
  },
  {
   "cell_type": "code",
   "execution_count": 181,
   "metadata": {
    "colab": {
     "base_uri": "https://localhost:8080/",
     "height": 219
    },
    "colab_type": "code",
    "id": "FgaItuSL3zxO",
    "outputId": "839e29ca-12a8-4379-837b-3f869dff380c"
   },
   "outputs": [
    {
     "name": "stdout",
     "output_type": "stream",
     "text": [
      "(8495, 10)\n"
     ]
    },
    {
     "data": {
      "text/html": [
       "<div>\n",
       "<style scoped>\n",
       "    .dataframe tbody tr th:only-of-type {\n",
       "        vertical-align: middle;\n",
       "    }\n",
       "\n",
       "    .dataframe tbody tr th {\n",
       "        vertical-align: top;\n",
       "    }\n",
       "\n",
       "    .dataframe thead th {\n",
       "        text-align: right;\n",
       "    }\n",
       "</style>\n",
       "<table border=\"1\" class=\"dataframe\">\n",
       "  <thead>\n",
       "    <tr style=\"text-align: right;\">\n",
       "      <th></th>\n",
       "      <th>make</th>\n",
       "      <th>price</th>\n",
       "      <th>body</th>\n",
       "      <th>mileage</th>\n",
       "      <th>engV</th>\n",
       "      <th>engType</th>\n",
       "      <th>registration</th>\n",
       "      <th>year</th>\n",
       "      <th>drive</th>\n",
       "      <th>age</th>\n",
       "    </tr>\n",
       "  </thead>\n",
       "  <tbody>\n",
       "    <tr>\n",
       "      <th>0</th>\n",
       "      <td>23</td>\n",
       "      <td>15500.0</td>\n",
       "      <td>0</td>\n",
       "      <td>68</td>\n",
       "      <td>2.5</td>\n",
       "      <td>1</td>\n",
       "      <td>1</td>\n",
       "      <td>2010</td>\n",
       "      <td>1</td>\n",
       "      <td>9</td>\n",
       "    </tr>\n",
       "    <tr>\n",
       "      <th>1</th>\n",
       "      <td>50</td>\n",
       "      <td>20500.0</td>\n",
       "      <td>3</td>\n",
       "      <td>173</td>\n",
       "      <td>1.8</td>\n",
       "      <td>1</td>\n",
       "      <td>1</td>\n",
       "      <td>2011</td>\n",
       "      <td>2</td>\n",
       "      <td>8</td>\n",
       "    </tr>\n",
       "    <tr>\n",
       "      <th>2</th>\n",
       "      <td>50</td>\n",
       "      <td>35000.0</td>\n",
       "      <td>2</td>\n",
       "      <td>135</td>\n",
       "      <td>5.5</td>\n",
       "      <td>3</td>\n",
       "      <td>1</td>\n",
       "      <td>2008</td>\n",
       "      <td>2</td>\n",
       "      <td>11</td>\n",
       "    </tr>\n",
       "    <tr>\n",
       "      <th>3</th>\n",
       "      <td>50</td>\n",
       "      <td>17800.0</td>\n",
       "      <td>5</td>\n",
       "      <td>162</td>\n",
       "      <td>1.8</td>\n",
       "      <td>0</td>\n",
       "      <td>1</td>\n",
       "      <td>2012</td>\n",
       "      <td>0</td>\n",
       "      <td>7</td>\n",
       "    </tr>\n",
       "    <tr>\n",
       "      <th>4</th>\n",
       "      <td>55</td>\n",
       "      <td>16600.0</td>\n",
       "      <td>0</td>\n",
       "      <td>83</td>\n",
       "      <td>2.0</td>\n",
       "      <td>3</td>\n",
       "      <td>1</td>\n",
       "      <td>2013</td>\n",
       "      <td>1</td>\n",
       "      <td>6</td>\n",
       "    </tr>\n",
       "  </tbody>\n",
       "</table>\n",
       "</div>"
      ],
      "text/plain": [
       "   make    price  body  mileage  engV  engType  registration  year  drive  age\n",
       "0    23  15500.0     0       68   2.5        1             1  2010      1    9\n",
       "1    50  20500.0     3      173   1.8        1             1  2011      2    8\n",
       "2    50  35000.0     2      135   5.5        3             1  2008      2   11\n",
       "3    50  17800.0     5      162   1.8        0             1  2012      0    7\n",
       "4    55  16600.0     0       83   2.0        3             1  2013      1    6"
      ]
     },
     "execution_count": 181,
     "metadata": {},
     "output_type": "execute_result"
    }
   ],
   "source": [
    "# Ukraine Used Car Sale Price Prediction\n",
    "df = pd.read_csv('https://raw.githubusercontent.com/ryanleeallred/datasets/master/car_regression.csv')\n",
    "df['age'] = 2019 - df.year\n",
    "print(df.shape)\n",
    "df.head()"
   ]
  },
  {
   "cell_type": "markdown",
   "metadata": {
    "colab_type": "text",
    "id": "w9gkF-HNUFAV"
   },
   "source": [
    "# Predictive Modeling with Linear Regression"
   ]
  },
  {
   "cell_type": "markdown",
   "metadata": {
    "colab_type": "text",
    "id": "Vy1SWxcYTAC0"
   },
   "source": [
    "## 1.1 Divide the dataset features into an X matrix and y vector (\"price\" is what we want to predict)."
   ]
  },
  {
   "cell_type": "code",
   "execution_count": 182,
   "metadata": {
    "colab": {},
    "colab_type": "code",
    "id": "dwMbM9tUUaOQ"
   },
   "outputs": [
    {
     "name": "stdout",
     "output_type": "stream",
     "text": [
      "(8495, 8)\n",
      "(8495,)\n"
     ]
    },
    {
     "data": {
      "text/html": [
       "<div>\n",
       "<style scoped>\n",
       "    .dataframe tbody tr th:only-of-type {\n",
       "        vertical-align: middle;\n",
       "    }\n",
       "\n",
       "    .dataframe tbody tr th {\n",
       "        vertical-align: top;\n",
       "    }\n",
       "\n",
       "    .dataframe thead th {\n",
       "        text-align: right;\n",
       "    }\n",
       "</style>\n",
       "<table border=\"1\" class=\"dataframe\">\n",
       "  <thead>\n",
       "    <tr style=\"text-align: right;\">\n",
       "      <th></th>\n",
       "      <th>make</th>\n",
       "      <th>body</th>\n",
       "      <th>mileage</th>\n",
       "      <th>engV</th>\n",
       "      <th>engType</th>\n",
       "      <th>registration</th>\n",
       "      <th>drive</th>\n",
       "      <th>age</th>\n",
       "    </tr>\n",
       "  </thead>\n",
       "  <tbody>\n",
       "    <tr>\n",
       "      <th>0</th>\n",
       "      <td>23</td>\n",
       "      <td>0</td>\n",
       "      <td>68</td>\n",
       "      <td>2.5</td>\n",
       "      <td>1</td>\n",
       "      <td>1</td>\n",
       "      <td>1</td>\n",
       "      <td>9</td>\n",
       "    </tr>\n",
       "    <tr>\n",
       "      <th>1</th>\n",
       "      <td>50</td>\n",
       "      <td>3</td>\n",
       "      <td>173</td>\n",
       "      <td>1.8</td>\n",
       "      <td>1</td>\n",
       "      <td>1</td>\n",
       "      <td>2</td>\n",
       "      <td>8</td>\n",
       "    </tr>\n",
       "    <tr>\n",
       "      <th>2</th>\n",
       "      <td>50</td>\n",
       "      <td>2</td>\n",
       "      <td>135</td>\n",
       "      <td>5.5</td>\n",
       "      <td>3</td>\n",
       "      <td>1</td>\n",
       "      <td>2</td>\n",
       "      <td>11</td>\n",
       "    </tr>\n",
       "    <tr>\n",
       "      <th>3</th>\n",
       "      <td>50</td>\n",
       "      <td>5</td>\n",
       "      <td>162</td>\n",
       "      <td>1.8</td>\n",
       "      <td>0</td>\n",
       "      <td>1</td>\n",
       "      <td>0</td>\n",
       "      <td>7</td>\n",
       "    </tr>\n",
       "    <tr>\n",
       "      <th>4</th>\n",
       "      <td>55</td>\n",
       "      <td>0</td>\n",
       "      <td>83</td>\n",
       "      <td>2.0</td>\n",
       "      <td>3</td>\n",
       "      <td>1</td>\n",
       "      <td>1</td>\n",
       "      <td>6</td>\n",
       "    </tr>\n",
       "  </tbody>\n",
       "</table>\n",
       "</div>"
      ],
      "text/plain": [
       "   make  body  mileage  engV  engType  registration  drive  age\n",
       "0    23     0       68   2.5        1             1      1    9\n",
       "1    50     3      173   1.8        1             1      2    8\n",
       "2    50     2      135   5.5        3             1      2   11\n",
       "3    50     5      162   1.8        0             1      0    7\n",
       "4    55     0       83   2.0        3             1      1    6"
      ]
     },
     "execution_count": 182,
     "metadata": {},
     "output_type": "execute_result"
    }
   ],
   "source": [
    "y = df['price']\n",
    "X = df[['make', 'body', 'mileage', 'engV', 'engType', 'registration', 'drive', 'age']]\n",
    "# Our data needs to have this shape to be accepted by sklearn\n",
    "print(X.shape)\n",
    "print(y.shape)\n",
    "X.head()"
   ]
  },
  {
   "cell_type": "markdown",
   "metadata": {
    "colab_type": "text",
    "id": "Uf_SQswNUPwM"
   },
   "source": [
    "## 1.2 Split the data into test and train datasets using train_test_split"
   ]
  },
  {
   "cell_type": "code",
   "execution_count": 183,
   "metadata": {
    "colab": {},
    "colab_type": "code",
    "id": "iIiELKuKUOgR"
   },
   "outputs": [
    {
     "name": "stdout",
     "output_type": "stream",
     "text": [
      "(8495, 8) \n",
      "\n",
      "(4247, 8)\n",
      "(4248, 8)\n",
      "(4247,)\n",
      "(4248,)\n"
     ]
    },
    {
     "data": {
      "text/html": [
       "<div>\n",
       "<style scoped>\n",
       "    .dataframe tbody tr th:only-of-type {\n",
       "        vertical-align: middle;\n",
       "    }\n",
       "\n",
       "    .dataframe tbody tr th {\n",
       "        vertical-align: top;\n",
       "    }\n",
       "\n",
       "    .dataframe thead th {\n",
       "        text-align: right;\n",
       "    }\n",
       "</style>\n",
       "<table border=\"1\" class=\"dataframe\">\n",
       "  <thead>\n",
       "    <tr style=\"text-align: right;\">\n",
       "      <th></th>\n",
       "      <th>make</th>\n",
       "      <th>body</th>\n",
       "      <th>mileage</th>\n",
       "      <th>engV</th>\n",
       "      <th>engType</th>\n",
       "      <th>registration</th>\n",
       "      <th>drive</th>\n",
       "      <th>age</th>\n",
       "    </tr>\n",
       "  </thead>\n",
       "  <tbody>\n",
       "    <tr>\n",
       "      <th>166</th>\n",
       "      <td>42</td>\n",
       "      <td>2</td>\n",
       "      <td>155</td>\n",
       "      <td>3.6</td>\n",
       "      <td>0</td>\n",
       "      <td>1</td>\n",
       "      <td>1</td>\n",
       "      <td>11</td>\n",
       "    </tr>\n",
       "    <tr>\n",
       "      <th>6044</th>\n",
       "      <td>76</td>\n",
       "      <td>3</td>\n",
       "      <td>999</td>\n",
       "      <td>1.3</td>\n",
       "      <td>3</td>\n",
       "      <td>1</td>\n",
       "      <td>2</td>\n",
       "      <td>35</td>\n",
       "    </tr>\n",
       "    <tr>\n",
       "      <th>1006</th>\n",
       "      <td>77</td>\n",
       "      <td>5</td>\n",
       "      <td>1</td>\n",
       "      <td>2.2</td>\n",
       "      <td>0</td>\n",
       "      <td>1</td>\n",
       "      <td>0</td>\n",
       "      <td>6</td>\n",
       "    </tr>\n",
       "    <tr>\n",
       "      <th>6129</th>\n",
       "      <td>67</td>\n",
       "      <td>3</td>\n",
       "      <td>0</td>\n",
       "      <td>1.2</td>\n",
       "      <td>3</td>\n",
       "      <td>1</td>\n",
       "      <td>0</td>\n",
       "      <td>3</td>\n",
       "    </tr>\n",
       "    <tr>\n",
       "      <th>5920</th>\n",
       "      <td>34</td>\n",
       "      <td>0</td>\n",
       "      <td>49</td>\n",
       "      <td>3.5</td>\n",
       "      <td>3</td>\n",
       "      <td>1</td>\n",
       "      <td>1</td>\n",
       "      <td>10</td>\n",
       "    </tr>\n",
       "  </tbody>\n",
       "</table>\n",
       "</div>"
      ],
      "text/plain": [
       "      make  body  mileage  engV  engType  registration  drive  age\n",
       "166     42     2      155   3.6        0             1      1   11\n",
       "6044    76     3      999   1.3        3             1      2   35\n",
       "1006    77     5        1   2.2        0             1      0    6\n",
       "6129    67     3        0   1.2        3             1      0    3\n",
       "5920    34     0       49   3.5        3             1      1   10"
      ]
     },
     "execution_count": 183,
     "metadata": {},
     "output_type": "execute_result"
    }
   ],
   "source": [
    "# Slit into test and train datasets\n",
    "X_train, X_test, Y_train, Y_test = train_test_split(X, y, test_size=.5, random_state=42)\n",
    "\n",
    "# fit model using train datasets\n",
    "model = LinearRegression()\n",
    "model.fit(X_train, Y_train)\n",
    "\n",
    "print(X.shape, \"\\n\")\n",
    "\n",
    "print(X_train.shape)\n",
    "print(X_test.shape)\n",
    "print(Y_train.shape)\n",
    "print(Y_test.shape)\n",
    "\n",
    "X_train.head()"
   ]
  },
  {
   "cell_type": "markdown",
   "metadata": {
    "colab_type": "text",
    "id": "0AdXWiwoUstf"
   },
   "source": [
    "## 1.3 Use Scikit-Learn to fit a multiple regression model using your training data."
   ]
  },
  {
   "cell_type": "code",
   "execution_count": 184,
   "metadata": {
    "colab": {},
    "colab_type": "code",
    "id": "Zw70rt71U1xf"
   },
   "outputs": [
    {
     "data": {
      "text/plain": [
       "LinearRegression(copy_X=True, fit_intercept=True, n_jobs=None,\n",
       "         normalize=False)"
      ]
     },
     "execution_count": 184,
     "metadata": {},
     "output_type": "execute_result"
    }
   ],
   "source": [
    "model = LinearRegression()\n",
    "model.fit(X_train, Y_train)\n"
   ]
  },
  {
   "cell_type": "markdown",
   "metadata": {
    "colab_type": "text",
    "id": "82fH2rilU7j3"
   },
   "source": [
    "## 1.4 Report the Intercept and Coefficient Values for the fitted model"
   ]
  },
  {
   "cell_type": "code",
   "execution_count": 185,
   "metadata": {},
   "outputs": [
    {
     "name": "stdout",
     "output_type": "stream",
     "text": [
      "Coefficient: \n",
      " [  -35.22479484 -1672.11973555   -37.12848399   269.61582544\n",
      " -1284.74375962  4649.46225339  7886.89079148 -1098.2829573 ]\n",
      "\n",
      " Intercept:  32842.27923638858\n"
     ]
    }
   ],
   "source": [
    "print(\"Coefficient: \\n\", model.coef_)\n",
    "print(\"\\n Intercept: \", model.intercept_)"
   ]
  },
  {
   "cell_type": "markdown",
   "metadata": {
    "colab_type": "text",
    "id": "T0CV0OnDVZbu"
   },
   "source": [
    "## 1.5 Use the test data to make predictions"
   ]
  },
  {
   "cell_type": "code",
   "execution_count": 186,
   "metadata": {
    "colab": {},
    "colab_type": "code",
    "id": "vrR5b5c3VwE5"
   },
   "outputs": [
    {
     "name": "stdout",
     "output_type": "stream",
     "text": [
      "RMSE is 23969.863358092756\n",
      "R^2 is 0.16867307432917555\n",
      "coefficients:  -42.098555218977666\n",
      "intercepts:  34622.19874787583\n"
     ]
    }
   ],
   "source": [
    "# Slit into test and train datasets\n",
    "X1_train, X1_test, Y_train, Y_test = train_test_split(X1, y, test_size=.5, random_state=42)\n",
    "\n",
    "# fit model using train datasets\n",
    "model = LinearRegression()\n",
    "model.fit(X1_train, Y_train)\n",
    "\n",
    "# Create new predictions using x_test\n",
    "y_pred = model.predict(X1_test)\n",
    "\n",
    "# Measure Accuracy using y_test and y_pred\n",
    "RMSE = (np.sqrt(mean_squared_error(Y_test, y_pred)))\n",
    "R2 = r2_score(Y_test, y_pred)\n",
    "\n",
    "print('RMSE is {}'.format(RMSE))\n",
    "print('R^2 is {}'.format(R2))\n",
    "\n",
    "print(\"coefficients: \", model.coef_[0])\n",
    "print(\"intercepts: \", model.intercept_)"
   ]
  },
  {
   "cell_type": "markdown",
   "metadata": {
    "colab_type": "text",
    "id": "ZwQb3gE7VycT"
   },
   "source": [
    "## 1.6 Calculate and report both the Root-Mean-Square error and $R^2$ for the model. "
   ]
  },
  {
   "cell_type": "code",
   "execution_count": 187,
   "metadata": {
    "colab": {},
    "colab_type": "code",
    "id": "Ym2kjxWhU6b2"
   },
   "outputs": [
    {
     "name": "stdout",
     "output_type": "stream",
     "text": [
      "MSE is 967373230.0376031\n",
      "RMSE is 31102.62416642048\n",
      "R^2 is -0.399699461217802\n"
     ]
    }
   ],
   "source": [
    "MSE = mean_squared_error(Y_test, y_test_predict)\n",
    "\n",
    "RMSE = (np.sqrt(mean_squared_error(Y_test, y_test_predict)))\n",
    "\n",
    "print('MSE is {}'.format(MSE))\n",
    "print('RMSE is {}'.format(RMSE))\n",
    "\n",
    "R2 = r2_score(Y_test, y_test_predict)\n",
    "\n",
    "print('R^2 is {}'.format(R2))"
   ]
  },
  {
   "cell_type": "markdown",
   "metadata": {
    "colab_type": "text",
    "id": "kIXhGHIgXHyJ"
   },
   "source": [
    "## 1.7 How should we interpret the coefficient corresponding to the \"year\" feature?"
   ]
  },
  {
   "cell_type": "markdown",
   "metadata": {
    "colab_type": "text",
    "id": "8jv2n0wAXgHU"
   },
   "source": [
    "I didn't use the year. Instead, I made a column 'age' that used the year to give me the age of the vehicle."
   ]
  },
  {
   "cell_type": "markdown",
   "metadata": {
    "colab_type": "text",
    "id": "ckQ5GsOtYsjn"
   },
   "source": [
    "## 1.8 How should we interpret the Root-Mean-Square Error?"
   ]
  },
  {
   "cell_type": "markdown",
   "metadata": {
    "colab_type": "text",
    "id": "F982IeSgYyp6"
   },
   "source": [
    "The RSME is a variance.  It measures the average magnitute of the errors but is disinterested in the direction of the error. This is a measure of accuracy. It is the difference between the actual and the predicted values, each then squared, then averaged over the entire sample."
   ]
  },
  {
   "cell_type": "markdown",
   "metadata": {
    "colab_type": "text",
    "id": "T3sZrru_YzFF"
   },
   "source": [
    "## 1.9 How should we interpret the $R^2$?"
   ]
  },
  {
   "cell_type": "markdown",
   "metadata": {
    "colab_type": "text",
    "id": "5pN2Oet_Y5jR"
   },
   "source": [
    "The $R^2$ tells us how successful or not the fit is in explaining the variance of the data. It's the square of the correlation between the actual value and the predicted value. $R^2$ can lie anywhere between zero and 1. An $R^2$ closer to 1 tells us there is a greater proportion of variance. Here we get an $R^2$ equal to 0.2734264423377091 or about 27.34%. This means the fit explains 27.34% of the total variation in the data around the average."
   ]
  },
  {
   "cell_type": "markdown",
   "metadata": {
    "colab_type": "text",
    "id": "Z_VNy7e3Y5sT"
   },
   "source": [
    "# Log-Linear and Polynomial Regression"
   ]
  },
  {
   "cell_type": "markdown",
   "metadata": {
    "colab_type": "text",
    "id": "G2T4FSqRZOJA"
   },
   "source": [
    "## 2.1 Engineer a new variable by taking the log of the price varible."
   ]
  },
  {
   "cell_type": "code",
   "execution_count": 188,
   "metadata": {
    "colab": {},
    "colab_type": "code",
    "id": "7EChAFNxZX24"
   },
   "outputs": [],
   "source": [
    "## generate our ln(price) variable\n",
    "df['ln_price'] = np.log(df['price'])"
   ]
  },
  {
   "cell_type": "markdown",
   "metadata": {
    "colab_type": "text",
    "id": "R117rxnOZw6q"
   },
   "source": [
    "## 2.2 Use scatterplots or seaborn's pairplot function to do the \"eyeball test\" for non-linearly distributed features."
   ]
  },
  {
   "cell_type": "code",
   "execution_count": 189,
   "metadata": {
    "colab": {},
    "colab_type": "code",
    "id": "8l56Qk7VaBrU"
   },
   "outputs": [
    {
     "data": {
      "text/plain": [
       "<seaborn.axisgrid.PairGrid at 0x124408320>"
      ]
     },
     "execution_count": 189,
     "metadata": {},
     "output_type": "execute_result"
    },
    {
     "data": {
      "image/png": "[encoded data removed]",
      "text/plain": [
       "<Figure size 1800x180 with 10 Axes>"
      ]
     },
     "metadata": {},
     "output_type": "display_data"
    }
   ],
   "source": [
    "sns.set(style = \"ticks\", color_codes = True)\n",
    "\n",
    "# Generate a list of column headers not including price\n",
    "x_columns = df.columns.drop('ln_price')\n",
    "\n",
    "# Sample our dataframe to take 1/20th the values\n",
    "sampled = df.sample(frac = 0.05, replace = True)\n",
    "# print(x_columns)\n",
    "\n",
    "# Only plot the scatterplot of x variables with our y variable\n",
    "sns.pairplot(data = sampled, y_vars = ['price'], x_vars = x_columns)"
   ]
  },
  {
   "cell_type": "markdown",
   "metadata": {
    "colab_type": "text",
    "id": "QTf4gCaDaiCw"
   },
   "source": [
    "## 2.3 If appropriate, create any polynomial features. "
   ]
  },
  {
   "cell_type": "code",
   "execution_count": 190,
   "metadata": {
    "colab": {},
    "colab_type": "code",
    "id": "ipsCcH83ZMe8"
   },
   "outputs": [],
   "source": [
    "X1 = df[['mileage', 'age']]"
   ]
  },
  {
   "cell_type": "markdown",
   "metadata": {
    "colab_type": "text",
    "id": "NJgfD-JLayRA"
   },
   "source": [
    "## 2.4 Use the new log-transformed y variable and your x variables (including any new polynomial features) to fit a new linear regression model. Then report the: intercept, coefficients, RMSE, and $R^2$."
   ]
  },
  {
   "cell_type": "code",
   "execution_count": 191,
   "metadata": {
    "colab": {},
    "colab_type": "code",
    "id": "uXmtVpnPcFij"
   },
   "outputs": [
    {
     "name": "stdout",
     "output_type": "stream",
     "text": [
      "RMSE is 0.695607561656902\n",
      "R^2 is 0.48604060820318506\n",
      "coefficients:  [-0.00059336 -0.0915822 ]\n",
      "intercepts:  [10.40434135]\n"
     ]
    }
   ],
   "source": [
    "# Separate dependent and independent variables\n",
    "y = df.loc[:, ['ln_price']].values\n",
    "X1 = df.loc[:, ['mileage', 'age']].values\n",
    "\n",
    "# Slit into test and train datasets\n",
    "X1_train, X1_test, Y_train, Y_test = train_test_split(X1, y, test_size=.5, random_state=42)\n",
    "\n",
    "# fit model using train datasets\n",
    "model = LinearRegression()\n",
    "model.fit(X1_train, Y_train)\n",
    "\n",
    "# Create new predictions using x_test\n",
    "y_pred = model.predict(X1_test)\n",
    "\n",
    "# Measure Accuracy using y_test and y_pred\n",
    "RMSE = (np.sqrt(mean_squared_error(Y_test, y_pred)))\n",
    "R2 = r2_score(Y_test, y_pred)\n",
    "\n",
    "print('RMSE is {}'.format(RMSE))\n",
    "print('R^2 is {}'.format(R2))\n",
    "\n",
    "print(\"coefficients: \", model.coef_[0])\n",
    "print(\"intercepts: \", model.intercept_)"
   ]
  },
  {
   "cell_type": "markdown",
   "metadata": {
    "colab_type": "text",
    "id": "hf4_8FXrpHFY"
   },
   "source": [
    "## 2.5 How might we interpret the coefficient on \"year\" in this new regression model?"
   ]
  },
  {
   "cell_type": "markdown",
   "metadata": {
    "colab_type": "text",
    "id": "JVGKvt5WpTf2"
   },
   "source": [
    "Again, I used an age column rather than a year as I changed it right away so the information would be more useful. That said, the coefficient is reduced drastically when the features are reduced to just the two, and instead of the price, we use the ln(price). The ln(price) reduces the skew in the y variable. It gives us better prediction when we normalize our data."
   ]
  },
  {
   "cell_type": "markdown",
   "metadata": {
    "colab_type": "text",
    "id": "JUQwzfDRfrQi"
   },
   "source": [
    "# Gradient Descent"
   ]
  },
  {
   "cell_type": "markdown",
   "metadata": {
    "colab_type": "text",
    "id": "M_JLfReVeoYT"
   },
   "source": [
    "## 3.1 What does Gradient Descent seek to minimize?"
   ]
  },
  {
   "cell_type": "markdown",
   "metadata": {
    "colab_type": "text",
    "id": "-ezM_NS2fIJe"
   },
   "source": [
    "It minimizes a function iteratively to find the local minimum. The gradient itself measures how much the output of a function changes every time you change the input slightly."
   ]
  },
  {
   "cell_type": "markdown",
   "metadata": {
    "colab_type": "text",
    "id": "unqhNRYnfIL4"
   },
   "source": [
    "## 3.2 What is the \"Learning Rate\" and what is its function?"
   ]
  },
  {
   "cell_type": "markdown",
   "metadata": {
    "colab_type": "text",
    "id": "7jhKwIOVfT6B"
   },
   "source": [
    "The Learning Rate is the size of the steps we take toward the negative gradient. We can have a big learning rate to cover more ground but we risk overshooting the lowest point. A small learning rate gives us more precsion but can be very slow. We can be more confident in getting the lowest point but it will take a long time."
   ]
  },
  {
   "cell_type": "markdown",
   "metadata": {
    "colab_type": "text",
    "id": "Gs20FOntprd_"
   },
   "source": [
    "# Model Diagnostics"
   ]
  },
  {
   "cell_type": "markdown",
   "metadata": {
    "colab_type": "text",
    "id": "VJnxkobcpulV"
   },
   "source": [
    "## 4.1 Use statsmodels to run a log-linear or log-polynomial linear regression with robust standard errors."
   ]
  },
  {
   "cell_type": "code",
   "execution_count": 192,
   "metadata": {
    "colab": {},
    "colab_type": "code",
    "id": "QqCVeYBTpvfQ"
   },
   "outputs": [
    {
     "name": "stdout",
     "output_type": "stream",
     "text": [
      "                            OLS Regression Results                            \n",
      "==============================================================================\n",
      "Dep. Variable:                  price   R-squared:                       0.460\n",
      "Model:                            OLS   Adj. R-squared:                  0.460\n",
      "Method:                 Least Squares   F-statistic:                     1204.\n",
      "Date:                Fri, 18 Jan 2019   Prob (F-statistic):               0.00\n",
      "Time:                        14:01:37   Log-Likelihood:                -96815.\n",
      "No. Observations:                8495   AIC:                         1.936e+05\n",
      "Df Residuals:                    8487   BIC:                         1.937e+05\n",
      "Df Model:                           8                                         \n",
      "Covariance Type:                  HC3                                         \n",
      "================================================================================\n",
      "                   coef    std err          z      P>|z|      [0.025      0.975]\n",
      "--------------------------------------------------------------------------------\n",
      "make            40.3061      8.997      4.480      0.000      22.673      57.939\n",
      "body          -793.5621    154.228     -5.145      0.000   -1095.844    -491.280\n",
      "mileage        -22.7206      2.964     -7.664      0.000     -28.531     -16.910\n",
      "engV           357.4099     78.046      4.579      0.000     204.442     510.377\n",
      "engType       -148.7332    200.538     -0.742      0.458    -541.781     244.315\n",
      "registration  2.513e+04    732.963     34.291      0.000    2.37e+04    2.66e+04\n",
      "drive         1.037e+04    390.320     26.574      0.000    9607.369    1.11e+04\n",
      "age           -962.5783     37.196    -25.878      0.000   -1035.481    -889.675\n",
      "==============================================================================\n",
      "Omnibus:                    11902.256   Durbin-Watson:                   1.913\n",
      "Prob(Omnibus):                  0.000   Jarque-Bera (JB):          5702650.977\n",
      "Skew:                           8.021   Prob(JB):                         0.00\n",
      "Kurtosis:                     128.912   Cond. No.                         524.\n",
      "==============================================================================\n",
      "\n",
      "Warnings:\n",
      "[1] Standard Errors are heteroscedasticity robust (HC3)\n"
     ]
    }
   ],
   "source": [
    "y = df['price']\n",
    "X2 = df[['make', 'body', 'mileage', 'engV', 'engType', 'registration', 'drive', 'age']]\n",
    "\n",
    "model = sm.OLS(y, X2).fit(cov_type = 'HC3')\n",
    "predictions = model.predict(X2) \n",
    "\n",
    "print_model = model.summary()\n",
    "print(print_model)"
   ]
  },
  {
   "cell_type": "markdown",
   "metadata": {
    "colab_type": "text",
    "id": "loKma3wspwVs"
   },
   "source": [
    "## 4.2 Calculate the Variance Inflation Factor (VIF) of our X variables. Do we have multicollinearity problems?"
   ]
  },
  {
   "cell_type": "code",
   "execution_count": 193,
   "metadata": {
    "colab": {},
    "colab_type": "code",
    "id": "EN1mPKWhp2Vn"
   },
   "outputs": [
    {
     "name": "stdout",
     "output_type": "stream",
     "text": [
      "Index(['make', 'body', 'mileage', 'engV', 'engType', 'registration', 'drive',\n",
      "       'age'],\n",
      "      dtype='object') \n",
      "\n",
      "\n",
      "[4.448236773541283, 3.2994254497836253, 4.562103502022187, 1.232732273170215, 2.7480695099633303, 7.958331969016734, 1.7271760199522663, 5.998767738621664]\n"
     ]
    }
   ],
   "source": [
    "from statsmodels.stats.outliers_influence import variance_inflation_factor\n",
    "\n",
    "print(X2.columns, '\\n\\n')\n",
    "\n",
    "vif = [variance_inflation_factor(X2.values, i) for i in range(X2.shape[1])]\n",
    "print(vif)"
   ]
  },
  {
   "cell_type": "markdown",
   "metadata": {},
   "source": [
    "We do not have any over 10 but a couple are a little high. I would check those two. "
   ]
  },
  {
   "cell_type": "code",
   "execution_count": null,
   "metadata": {},
   "outputs": [],
   "source": []
  }
 ],
 "metadata": {
  "colab": {
   "include_colab_link": true,
   "name": "Linear Regression Sprint Challenge.ipynb",
   "provenance": [],
   "version": "0.3.2"
  },
  "kernelspec": {
   "display_name": "Python 3",
   "language": "python",
   "name": "python3"
  },
  "language_info": {
   "codemirror_mode": {
    "name": "ipython",
    "version": 3
   },
   "file_extension": ".py",
   "mimetype": "text/x-python",
   "name": "python",
   "nbconvert_exporter": "python",
   "pygments_lexer": "ipython3",
   "version": "3.6.6"
  }
 },
 "nbformat": 4,
 "nbformat_minor": 2
}
